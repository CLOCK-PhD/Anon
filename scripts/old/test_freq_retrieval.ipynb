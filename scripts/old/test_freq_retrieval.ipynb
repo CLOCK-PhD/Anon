{
 "cells": [
  {
   "cell_type": "code",
   "execution_count": 1,
   "metadata": {},
   "outputs": [],
   "source": [
    "from requests import get, codes as http_code"
   ]
  },
  {
   "cell_type": "markdown",
   "metadata": {},
   "source": [
    "contact the \"frequency by rsid\" endpoint refsnp/\\<rsid\\>/frequency "
   ]
  },
  {
   "cell_type": "code",
   "execution_count": 5,
   "metadata": {},
   "outputs": [
    {
     "data": {
      "text/plain": [
       "{'build_id': '20201027095038',\n",
       " 'results': {'1@11563271': {'ref': 'T',\n",
       "   'counts': {'PRJNA507278': {'allele_counts': {'SAMN10492705': {'C': 178984,\n",
       "       'T': 132136},\n",
       "      'SAMN10492695': {'C': 160122, 'T': 117816},\n",
       "      'SAMN10492703': {'C': 4234, 'T': 3802},\n",
       "      'SAMN10492696': {'C': 162, 'T': 148},\n",
       "      'SAMN10492698': {'C': 4072, 'T': 3654},\n",
       "      'SAMN10492704': {'C': 1902, 'T': 1736},\n",
       "      'SAMN10492697': {'C': 1464, 'T': 1462},\n",
       "      'SAMN10492701': {'C': 438, 'T': 274},\n",
       "      'SAMN10492699': {'C': 631, 'T': 411},\n",
       "      'SAMN10492700': {'C': 1970, 'T': 1020},\n",
       "      'SAMN10492702': {'C': 2922, 'T': 2284},\n",
       "      'SAMN11605645': {'C': 7203, 'T': 5067}}}}}}}"
      ]
     },
     "execution_count": 5,
     "metadata": {},
     "output_type": "execute_result"
    }
   ],
   "source": [
    "reply = get(\"https://api.ncbi.nlm.nih.gov/variation/v0/refsnp/{}/frequency\".format(16))\n",
    "reply.json()"
   ]
  },
  {
   "cell_type": "markdown",
   "metadata": {},
   "source": [
    "The reply's contents are of type JSON. So, we use the json method of requests to convert it into a dictionary. You can use that dictionary directly."
   ]
  },
  {
   "cell_type": "code",
   "execution_count": 6,
   "metadata": {},
   "outputs": [
    {
     "data": {
      "text/plain": [
       "160122"
      ]
     },
     "execution_count": 6,
     "metadata": {},
     "output_type": "execute_result"
    }
   ],
   "source": [
    "rj = reply.json()\n",
    "rj['results']['1@11563271']['counts']['PRJNA507278']['allele_counts']['SAMN10492695']['C']"
   ]
  },
  {
   "cell_type": "markdown",
   "metadata": {},
   "source": [
    "This means that study PRJNA507278 (the dbGaP Allele Frequency Aggregation, ALFA, project) counted 160122 Cs for population SAMN10492695, although the result can be different for new ALFA releases. You can translate those into English with the metadata endpoint. The 1@11563271 is an interval of length 1 starting after nucleotide 11563271 if you number nucleotides starting at 0."
   ]
  },
  {
   "cell_type": "code",
   "execution_count": 7,
   "metadata": {},
   "outputs": [
    {
     "name": "stdout",
     "output_type": "stream",
     "text": [
      "dbGaP_PopFreq\n",
      "European\n"
     ]
    }
   ],
   "source": [
    "md_json=get(\"https://api.ncbi.nlm.nih.gov/variation/v0/metadata/frequency\").json()\n",
    "md = {}\n",
    "for project_json in md_json:\n",
    "  p = {}\n",
    "  p['json']=project_json\n",
    "  p['pops']={}\n",
    "  md[project_json['bioproject_id']] = p\n",
    "\n",
    "def add_all_pops(populations, project):\n",
    "  for p in populations:\n",
    "    project['pops'][p['biosample_id']] = p\n",
    "  if 'subs' in p:\n",
    "    add_all_pops(p['subs'], project)\n",
    "\n",
    "for prj_id, prj in md.items():\n",
    "  add_all_pops(prj['json']['populations'], prj)\n",
    "\n",
    "print(md['PRJNA507278']['json']['short_name'])\n",
    "print(md['PRJNA507278']['pops']['SAMN10492695']['name'])"
   ]
  },
  {
   "cell_type": "markdown",
   "metadata": {},
   "source": [
    "So, those were the counts for people with European ancestry from the ALFA project."
   ]
  },
  {
   "cell_type": "markdown",
   "metadata": {},
   "source": [
    "However, for programmatic use, we'll want to wrap this in a function because the API is currently limited to one call per second. We can also take care of error conditions."
   ]
  },
  {
   "cell_type": "code",
   "execution_count": 8,
   "metadata": {},
   "outputs": [],
   "source": [
    "from requests import get, codes as http_code\n",
    "from ratelimit import limits\n",
    "from typing import Any\n",
    "\n",
    "@limits(calls=1, period=1)  # Only one call per second\n",
    "def get_frequency_for(rs_id: str) -> Any:\n",
    "  \"\"\"\n",
    "  Retrieve frequency data by rsid in JSON format\n",
    "  \"\"\"\n",
    "  BYRSID_URL = (\"https://api.ncbi.nlm.nih.gov/variation/v0/\"\n",
    "                \"refsnp/{}/frequency\".format(rs_id))\n",
    "\n",
    "  reply = get(BYRSID_URL)\n",
    "  if reply.status_code != http_code.ok:\n",
    "    raise Exception(\"Request failed: {}\\n{}\".format(\n",
    "      reply.status_code, BYRSID_URL))\n",
    "\n",
    "  content_type = reply.headers['content-type']\n",
    "  if content_type != 'application/json':\n",
    "    raise Exception(\"Unexpected content type: {}\\n{}\".format(\n",
    "      content_type, BYRSID_URL))\n",
    "\n",
    "  return reply.json()\n"
   ]
  },
  {
   "cell_type": "markdown",
   "metadata": {},
   "source": [
    "The reply we obtained is represented with a Python dictionary whose element with key `results` contains the frequency data. That data inside that element is also a Python dictionary. Its elements consist of intervals, each of which is keyed by a combination of its `length` and its `start` position."
   ]
  },
  {
   "cell_type": "markdown",
   "metadata": {},
   "source": [
    "The elements of each interval are keyed by the id of the study that the frequency data comes from. Inside each study element, the data consists of the reference allele of the interval (`ref` element) and its frequency counts (`counts` key)."
   ]
  },
  {
   "cell_type": "code",
   "execution_count": 9,
   "metadata": {},
   "outputs": [],
   "source": [
    "def print_study_counts(study_id: str, study_counts: Any) -> None:\n",
    "  \"\"\"\n",
    "  Print counts per study\n",
    "\n",
    "  At present, we only offer counts per allele,\n",
    "  not yet per genotype\n",
    "  \"\"\"\n",
    "  print(\"\\tAllele counts for study: {}\".format(study_id))\n",
    "  allele_counts = study_counts[\"allele_counts\"]\n",
    "\n",
    "  for pop_id, pop_counts in allele_counts.items():\n",
    "    print(\"\\t\\tAllele counts for population {}\".format(pop_id))\n",
    "    for allele, count in pop_counts.items():\n",
    "      print(\"\\t\\t\\tAllele: {}. Count: {}\".format(\n",
    "        allele, count))"
   ]
  },
  {
   "cell_type": "markdown",
   "metadata": {},
   "source": [
    "\n",
    "\n",
    "In the example code below, we start by retrieving the frequency data for RSID 16. We then iterate over the intervals, and print for each their `start` and `length` positions and their `ref` alelle. Then we iterate over each study and print its allele counts using the function `print_study_counts` above. Inside that function we can see that the allele counts are broken down first by population and then by allele."
   ]
  },
  {
   "cell_type": "code",
   "execution_count": 10,
   "metadata": {},
   "outputs": [
    {
     "name": "stdout",
     "output_type": "stream",
     "text": [
      "Start: 11563271. Length: 1. Ref. Allele: T\n",
      "\tAllele counts for study: PRJNA507278\n",
      "\t\tAllele counts for population SAMN10492705\n",
      "\t\t\tAllele: C. Count: 178984\n",
      "\t\t\tAllele: T. Count: 132136\n",
      "\t\tAllele counts for population SAMN10492695\n",
      "\t\t\tAllele: C. Count: 160122\n",
      "\t\t\tAllele: T. Count: 117816\n",
      "\t\tAllele counts for population SAMN10492703\n",
      "\t\t\tAllele: C. Count: 4234\n",
      "\t\t\tAllele: T. Count: 3802\n",
      "\t\tAllele counts for population SAMN10492696\n",
      "\t\t\tAllele: C. Count: 162\n",
      "\t\t\tAllele: T. Count: 148\n",
      "\t\tAllele counts for population SAMN10492698\n",
      "\t\t\tAllele: C. Count: 4072\n",
      "\t\t\tAllele: T. Count: 3654\n",
      "\t\tAllele counts for population SAMN10492704\n",
      "\t\t\tAllele: C. Count: 1902\n",
      "\t\t\tAllele: T. Count: 1736\n",
      "\t\tAllele counts for population SAMN10492697\n",
      "\t\t\tAllele: C. Count: 1464\n",
      "\t\t\tAllele: T. Count: 1462\n",
      "\t\tAllele counts for population SAMN10492701\n",
      "\t\t\tAllele: C. Count: 438\n",
      "\t\t\tAllele: T. Count: 274\n",
      "\t\tAllele counts for population SAMN10492699\n",
      "\t\t\tAllele: C. Count: 631\n",
      "\t\t\tAllele: T. Count: 411\n",
      "\t\tAllele counts for population SAMN10492700\n",
      "\t\t\tAllele: C. Count: 1970\n",
      "\t\t\tAllele: T. Count: 1020\n",
      "\t\tAllele counts for population SAMN10492702\n",
      "\t\t\tAllele: C. Count: 2922\n",
      "\t\t\tAllele: T. Count: 2284\n",
      "\t\tAllele counts for population SAMN11605645\n",
      "\t\t\tAllele: C. Count: 7203\n",
      "\t\t\tAllele: T. Count: 5067\n"
     ]
    }
   ],
   "source": [
    "frequency_data = get_frequency_for(rs_id=16)\n",
    "for interval, freq_by_pop in frequency_data[\"results\"].items():\n",
    "  # Each key describes an interval\n",
    "  # in <length>@<start> format\n",
    "  length, start = interval.split(\"@\")\n",
    "  print(\"Start: {}. Length: {}. Ref. Allele: {}\".format(\n",
    "    start, length, freq_by_pop[\"ref\"]))\n",
    "  counts_per_study = freq_by_pop[\"counts\"]\n",
    "\n",
    "  # Print counts per study\n",
    "  for study_id, study_counts in counts_per_study.items():\n",
    "    print_study_counts(study_id, study_counts)\n"
   ]
  }
 ],
 "metadata": {
  "kernelspec": {
   "display_name": "Python 3.8.10 64-bit",
   "language": "python",
   "name": "python3"
  },
  "language_info": {
   "codemirror_mode": {
    "name": "ipython",
    "version": 3
   },
   "file_extension": ".py",
   "mimetype": "text/x-python",
   "name": "python",
   "nbconvert_exporter": "python",
   "pygments_lexer": "ipython3",
   "version": "3.8.10"
  },
  "orig_nbformat": 4,
  "vscode": {
   "interpreter": {
    "hash": "916dbcbb3f70747c44a77c7bcd40155683ae19c65e1c03b4aa3499c5328201f1"
   }
  }
 },
 "nbformat": 4,
 "nbformat_minor": 2
}
